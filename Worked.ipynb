{
 "cells": [
  {
   "cell_type": "code",
   "execution_count": 24,
   "metadata": {},
   "outputs": [
    {
     "name": "stdout",
     "output_type": "stream",
     "text": [
      "200\n",
      "{'Macaddress': '00:03:ac:33:94:0e', 'Count': 3, 'Records': [{'macAddress': '00:03:ac:33:94:0e', 'mapInfo': {'mapHierarchyString': 'System Campus>UNIT.Factory>1st_Floor>Coverage_Area-First_Floor', 'mapHierarchyDetails': {'campus': 'System Campus', 'building': 'UNIT.Factory', 'floor': '1st_Floor', 'floorAesUid': 735495909441273878, 'zones': 'Coverage_Area-First_Floor'}}, 'mapCoordinate': {'x': 1481.3665, 'y': 690.1792, 'z': 0.0, 'unit': 'FEET'}, 'currentlyTracked': True, 'confidenceFactor': 48.0, 'locComputeType': 'RSSI', 'statistics': {'currentServerTime': '2019-04-19T17:11:01.961+0300', 'firstLocatedTime': '2019-04-19T16:48:47.649+0300', 'lastLocatedTime': '2019-04-19T16:50:09.651+0300'}, 'historyLogReason': 'DISTANCE_CHANGE', 'geoCoordinate': None, 'rawLocation': None, 'networkStatus': 'ACTIVE', 'changedOn': 1555681809651, 'ipAddress': ['10.85.144.203', 'fe80:0000:0000:0000:0203:acff:fe33:940e'], 'userName': 'osloboda', 'ssId': 'UNIT Factory (student)', 'sourceTimestamp': '1555681809651', 'band': 'UNKNOWN', 'apMacAddress': '50:0f:80:27:0f:60', 'dot11Status': 'ASSOCIATED', 'manufacturer': 'Fronius Schweissmaschinen', 'areaGlobalIdList': None, 'detectingControllers': '10.51.1.240', 'bytesSent': 0, 'bytesReceived': 0, 'guestUser': False}, {'macAddress': '00:03:ac:33:94:0e', 'mapInfo': {'mapHierarchyString': 'System Campus>UNIT.Factory>1st_Floor>Coverage_Area-First_Floor', 'mapHierarchyDetails': {'campus': 'System Campus', 'building': 'UNIT.Factory', 'floor': '1st_Floor', 'floorAesUid': 735495909441273878, 'zones': 'Coverage_Area-First_Floor'}}, 'mapCoordinate': {'x': 1061.4192, 'y': 437.70084, 'z': 0.0, 'unit': 'FEET'}, 'currentlyTracked': True, 'confidenceFactor': 144.0, 'locComputeType': 'RSSI', 'statistics': {'currentServerTime': '2019-04-19T17:11:01.962+0300', 'firstLocatedTime': '2019-04-19T16:48:47.649+0300', 'lastLocatedTime': '2019-04-19T16:48:55.648+0300'}, 'historyLogReason': 'DISTANCE_CHANGE', 'geoCoordinate': None, 'rawLocation': None, 'networkStatus': 'ACTIVE', 'changedOn': 1555681735648, 'ipAddress': ['10.85.144.203', 'fe80:0000:0000:0000:0203:acff:fe33:940e'], 'userName': 'osloboda', 'ssId': 'UNIT Factory (student)', 'sourceTimestamp': '1555681735648', 'band': 'UNKNOWN', 'apMacAddress': '50:0f:80:27:0f:60', 'dot11Status': 'ASSOCIATED', 'manufacturer': 'Fronius Schweissmaschinen', 'areaGlobalIdList': None, 'detectingControllers': '10.51.1.240', 'bytesSent': 0, 'bytesReceived': 0, 'guestUser': False}, {'macAddress': '00:03:ac:33:94:0e', 'mapInfo': {'mapHierarchyString': 'System Campus>UNIT.Factory>1st_Floor>Coverage_Area-First_Floor', 'mapHierarchyDetails': {'campus': 'System Campus', 'building': 'UNIT.Factory', 'floor': '1st_Floor', 'floorAesUid': 735495909441273878, 'zones': 'Coverage_Area-First_Floor'}}, 'mapCoordinate': {'x': 1065.7572, 'y': 412.45694, 'z': 0.0, 'unit': 'FEET'}, 'currentlyTracked': True, 'confidenceFactor': 136.0, 'locComputeType': 'RSSI', 'statistics': {'currentServerTime': '2019-04-19T17:11:01.962+0300', 'firstLocatedTime': '2019-04-19T16:48:47.649+0300', 'lastLocatedTime': '2019-04-19T16:48:47.649+0300'}, 'historyLogReason': 'FLOOR_CHANGE', 'geoCoordinate': None, 'rawLocation': None, 'networkStatus': 'ACTIVE', 'changedOn': 1555681727649, 'ipAddress': [], 'userName': '', 'ssId': '', 'sourceTimestamp': '1555681727649', 'band': 'UNKNOWN', 'apMacAddress': '', 'dot11Status': 'UNKNOWN', 'manufacturer': 'Fronius Schweissmaschinen', 'areaGlobalIdList': None, 'detectingControllers': '10.51.1.240', 'bytesSent': 0, 'bytesReceived': 0, 'guestUser': False}], 'Date': '2019/04/19'}\n"
     ]
    },
    {
     "name": "stderr",
     "output_type": "stream",
     "text": [
      "/Users/osloboda/python_env/lib/python3.6/site-packages/urllib3/connectionpool.py:847: InsecureRequestWarning: Unverified HTTPS request is being made. Adding certificate verification is strongly advised. See: https://urllib3.readthedocs.io/en/latest/advanced-usage.html#ssl-warnings\n",
      "  InsecureRequestWarning)\n"
     ]
    }
   ],
   "source": [
    "import requests\n",
    "import sys\n",
    "import certifi\n",
    "\n",
    "username = 'RO'\n",
    "password = 'just4reading'\n",
    "\n",
    "try:\n",
    "    r = requests.get('https://cisco-cmx.unit.ua/api/location/v1/history/clients/00%3A03%3Aac%3A33%3A94%3A0e', verify=False, auth=(username, password))\n",
    "    print(r.status_code)\n",
    "    data = r.json()\n",
    "    print(data)\n",
    "except:\n",
    "    print(\"error\")\n",
    "    print (sys.exc_info()[1])\n"
   ]
  },
  {
   "cell_type": "code",
   "execution_count": null,
   "metadata": {},
   "outputs": [],
   "source": []
  },
  {
   "cell_type": "code",
   "execution_count": null,
   "metadata": {},
   "outputs": [],
   "source": []
  },
  {
   "cell_type": "code",
   "execution_count": null,
   "metadata": {},
   "outputs": [],
   "source": []
  }
 ],
 "metadata": {
  "kernelspec": {
   "display_name": "Python 3",
   "language": "python",
   "name": "python3"
  },
  "language_info": {
   "codemirror_mode": {
    "name": "ipython",
    "version": 3
   },
   "file_extension": ".py",
   "mimetype": "text/x-python",
   "name": "python",
   "nbconvert_exporter": "python",
   "pygments_lexer": "ipython3",
   "version": "3.6.2"
  }
 },
 "nbformat": 4,
 "nbformat_minor": 2
}
